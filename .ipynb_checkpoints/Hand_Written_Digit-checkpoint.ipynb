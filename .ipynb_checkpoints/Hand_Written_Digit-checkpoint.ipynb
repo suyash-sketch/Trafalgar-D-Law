{
 "cells": [
  {
   "cell_type": "code",
   "execution_count": null,
   "id": "f6acd04e",
   "metadata": {},
   "outputs": [],
   "source": [
    "import tensorflow as tf\n",
    "\n",
    "print(\"TensorFlow version:\", tf.__version__)\n",
    "gpus = tf.config.list_physical_devices('GPU')\n",
    "print(\"GPUs detected:\", gpus)"
   ]
  },
  {
   "cell_type": "code",
   "execution_count": null,
   "id": "0e66eb59",
   "metadata": {},
   "outputs": [],
   "source": [
    "import tensorflow as tf\n",
    "from tensorflow.keras.datasets import mnist\n",
    "from tensorflow.keras.models import Sequential\n",
    "from tensorflow.keras.layers import Conv2D, BatchNormalization, Activation, Flatten, Dense\n",
    "from tensorflow.keras.utils import to_categorical\n",
    "from tensorflow.keras.callbacks import LearningRateScheduler\n",
    "import numpy as np\n",
    "import matplotlib.pyplot as plt"
   ]
  },
  {
   "cell_type": "code",
   "execution_count": null,
   "id": "8cba2947",
   "metadata": {},
   "outputs": [],
   "source": [
    "(x_train, y_train), (x_test, y_test) = mnist.load_data()"
   ]
  },
  {
   "cell_type": "code",
   "execution_count": null,
   "id": "5b44ac52",
   "metadata": {},
   "outputs": [],
   "source": [
    "print(f\"Training data shape: {x_train.shape}\")\n",
    "print(f\"Test data shape: {x_test.shape}\")"
   ]
  },
  {
   "cell_type": "markdown",
   "id": "43b43f07",
   "metadata": {},
   "source": [
    "# Data Preprocessing"
   ]
  },
  {
   "cell_type": "code",
   "execution_count": null,
   "id": "6e64bf2d",
   "metadata": {},
   "outputs": [],
   "source": [
    "# Reshaping data\n",
    "x_train = x_train.reshape(x_train.shape[0], 28, 28, 1) # reshape(batch_size, height, width, channel(color))\n",
    "x_test = x_test.reshape(x_test.shape[0], 28, 28, 1) # reshape(batch_size, height, width, channel(color))\n",
    "input_shape = (28, 28, 1)\n",
    "\n",
    "# Normalize the pixel values to between 0 and 1\n",
    "x_train = x_train.astype('float32') / 255\n",
    "x_test = x_test.astype('float32') / 255\n",
    "\n",
    "# One hot encoding\n",
    "y_train = to_categorical(y_train, 10)\n",
    "y_test = to_categorical(y_test, 10)\n",
    "\n",
    "print(f\"Preprocessed training labels shape: {y_train.shape}\")"
   ]
  },
  {
   "cell_type": "code",
   "execution_count": null,
   "id": "ad45a287",
   "metadata": {},
   "outputs": [],
   "source": []
  },
  {
   "cell_type": "markdown",
   "id": "4e1c55ae",
   "metadata": {},
   "source": [
    "# Building CNN Model"
   ]
  },
  {
   "cell_type": "code",
   "execution_count": null,
   "id": "a1b68093",
   "metadata": {},
   "outputs": [],
   "source": [
    "# Export trained model for backend API\n",
    "import os\n",
    "os.makedirs('backend', exist_ok=True)\n",
    "model.save('backend/model.h5')\n",
    "print('Saved to backend/model.h5')\n"
   ]
  },
  {
   "cell_type": "code",
   "execution_count": null,
   "id": "a1ac6a9e",
   "metadata": {},
   "outputs": [],
   "source": [
    "model = Sequential([\n",
    "    # Input: 28x28x1\n",
    "\n",
    "    # Convolutional Block 1\n",
    "    Conv2D(32, kernel_size = (5, 5), padding = 'valid', input_shape = input_shape),\n",
    "    BatchNormalization(),\n",
    "    Activation('relu'),\n",
    "    # Output: 24x24x32\n",
    "\n",
    "    # Convolutional Block 2\n",
    "    Conv2D(64, kernel_size = (5, 5), padding = 'valid'),\n",
    "    BatchNormalization(),\n",
    "    Activation('relu'),\n",
    "    # Output: 20x20x64\n",
    "\n",
    "    # Convolutional Block 3\n",
    "    Conv2D(96, kernel_size = (5, 5), padding = 'valid'),\n",
    "    BatchNormalization(),\n",
    "    Activation('relu'),\n",
    "    # Output: 16x16x96\n",
    "    \n",
    "    # Convolutional Block 4\n",
    "    Conv2D(128, kernel_size = (5, 5), padding = 'valid'),\n",
    "    BatchNormalization(),\n",
    "    Activation('relu'),\n",
    "    # Output: 12x12x128\n",
    "\n",
    "    # Convolutional Block 5\n",
    "    Conv2D(160, kernel_size = (5, 5), padding = 'valid'),\n",
    "    BatchNormalization(),\n",
    "    Activation('relu'),\n",
    "    # Output: 8x8x160\n",
    "\n",
    "    # Flatten and Classify\n",
    "    Flatten(),\n",
    "    # Output: 10240 neurons (8*8*160)\n",
    "\n",
    "    # Fully connected layer with Batch Normalization\n",
    "    Dense(10),\n",
    "    BatchNormalization(),\n",
    "    Activation('softmax')\n",
    "])\n",
    "\n",
    "model.summary()"
   ]
  },
  {
   "cell_type": "markdown",
   "id": "d4759233",
   "metadata": {},
   "source": [
    "# Compiling and Training the model"
   ]
  },
  {
   "cell_type": "code",
   "execution_count": null,
   "id": "380d2795",
   "metadata": {},
   "outputs": [],
   "source": [
    "# Compiling the model\n",
    "model.compile(optimizer = 'adam', loss = 'categorical_crossentropy', metrics = ['accuracy'])\n",
    "\n",
    "#Define the learning rate decay function as described in the paper\n",
    "def lr_decay_schedule(epoch, lr):\n",
    "    return lr * 0.98\n",
    "\n",
    "# Create the learning rate scheduler callback\n",
    "lr_scheduler = LearningRateScheduler(lr_decay_schedule)\n",
    "\n",
    "# Training the model\n",
    "history = model.fit(x_train, y_train, batch_size = 128, epochs = 150, validation_split = 0.1, callbacks = [lr_scheduler]) # Use 10% of the training data for validation\n",
    "print(\"--- Model Training Finished ---\\\\n\")\n",
    "\n",
    "# Evaluate the model on the test set\n",
    "print(\"--- Evaluating Model on Test Data ---\")\n",
    "score = model.evaluate(x_test, y_test, verbose = 0)\n",
    "print(f\"\\nTest loss: {score[0]:.4f}\")\n",
    "print(f\"Test accuracy: {score[1]:.4f}\")"
   ]
  },
  {
   "cell_type": "code",
   "execution_count": null,
   "id": "9da7c710",
   "metadata": {},
   "outputs": [],
   "source": [
    "import os\n",
    "os.makedirs('backend', exist_ok=True)\n",
    "model.save('backend/model.h5')"
   ]
  },
  {
   "cell_type": "markdown",
   "id": "2718676a",
   "metadata": {},
   "source": [
    "# Predictions"
   ]
  },
  {
   "cell_type": "code",
   "execution_count": null,
   "id": "a5ff988f",
   "metadata": {},
   "outputs": [],
   "source": [
    "# Select an image from the test set\n",
    "image_index = 9980\n",
    "test_image = x_test[image_index]\n",
    "true_label = np.argmax(y_test[image_index])\n",
    "\n",
    "# Get the true digit\n",
    "image_for_prediction = np.expand_dims(test_image, axis = 0)\n",
    "\n",
    "# Make a predicition\n",
    "prediction = model.predict(image_for_prediction)\n",
    "\n",
    "predicted_label = np.argmax(prediction)\n",
    "\n",
    "# Display the results\n",
    "plt.imshow(test_image.squeeze(), cmap = 'gray')\n",
    "plt.title(f\"True label: {true_label} | Predicted Label: {predicted_label}\")\n",
    "plt.axis('off')\n",
    "plt.show"
   ]
  },
  {
   "cell_type": "code",
   "execution_count": null,
   "id": "36651d02",
   "metadata": {},
   "outputs": [],
   "source": [
    "from PIL import Image, ImageOps\n",
    "import numpy as np\n",
    "import matplotlib.pyplot as plt\n",
    "import os\n",
    "\n",
    "\n",
    "def preprocess_digit_image(image_path: str):\n",
    "    if not os.path.exists(image_path):\n",
    "        raise FileNotFoundError(f\"Not found: {image_path}\")\n",
    "\n",
    "    # Load and convert to grayscale\n",
    "    img = Image.open(image_path).convert('L')\n",
    "\n",
    "    # Auto-invert if background appears white (MNIST expects white digit on black bg)\n",
    "    np_img = np.array(img)\n",
    "    if np.mean(np_img) > 127:\n",
    "        img = ImageOps.invert(img)\n",
    "\n",
    "    # Improve contrast a bit\n",
    "    img = ImageOps.autocontrast(img)\n",
    "\n",
    "    # Fit image into a 28x28 canvas, keeping aspect ratio\n",
    "    img.thumbnail((28, 28), Image.LANCZOS)\n",
    "    canvas = Image.new('L', (28, 28), color=0)\n",
    "    paste_x = (28 - img.width) // 2\n",
    "    paste_y = (28 - img.height) // 2\n",
    "    canvas.paste(img, (paste_x, paste_y))\n",
    "\n",
    "    # Normalize and reshape to model input\n",
    "    arr = np.array(canvas).astype('float32') / 255.0\n",
    "    arr = arr.reshape(1, 28, 28, 1)\n",
    "    return canvas, arr\n",
    "\n",
    "\n",
    "# 1) Set path to your digit image (PNG/JPG). Example:\n",
    "# image_path = r'D:\\Suyash\\engineering\\miniprojects\\miniproject sem 5\\handwritten digit recognition\\my_digit.png'\n",
    "image_path = r'4.png'\n",
    "\n",
    "# 2) Preprocess and predict\n",
    "processed_pil, input_tensor = preprocess_digit_image(image_path)\n",
    "probs = model.predict(input_tensor)\n",
    "pred = int(np.argmax(probs))\n",
    "\n",
    "# 3) Show result\n",
    "plt.figure(figsize=(3, 3))\n",
    "plt.imshow(processed_pil, cmap='gray')\n",
    "plt.title(f'Predicted: {pred}')\n",
    "plt.axis('off')\n",
    "plt.show()\n"
   ]
  }
 ],
 "metadata": {
  "kernelspec": {
   "display_name": "tf_gpu",
   "language": "python",
   "name": "python3"
  },
  "language_info": {
   "codemirror_mode": {
    "name": "ipython",
    "version": 3
   },
   "file_extension": ".py",
   "mimetype": "text/x-python",
   "name": "python",
   "nbconvert_exporter": "python",
   "pygments_lexer": "ipython3",
   "version": "3.10.13"
  }
 },
 "nbformat": 4,
 "nbformat_minor": 5
}
